{
  "nbformat": 4,
  "nbformat_minor": 0,
  "metadata": {
    "colab": {
      "provenance": []
    },
    "kernelspec": {
      "name": "python3",
      "display_name": "Python 3"
    },
    "language_info": {
      "name": "python"
    }
  },
  "cells": [
    {
      "cell_type": "code",
      "execution_count": 4,
      "metadata": {
        "id": "sH9EEYATxsKT"
      },
      "outputs": [],
      "source": [
        "import pandas as pd\n",
        "from sklearn.model_selection import train_test_split\n",
        "from sklearn.preprocessing import StandardScaler\n",
        "from sklearn.neural_network import MLPClassifier\n",
        "from sklearn.metrics import accuracy_score\n",
        "import time"
      ]
    },
    {
      "cell_type": "code",
      "source": [
        "pima = pd.read_csv(\"pima.csv\")\n",
        "pima = pima.dropna()\n",
        "# Split features and target\n",
        "X = pima.drop(\"outcome\", axis=1)\n",
        "y = pima[\"outcome\"]\n",
        "\n",
        "# Scale the features\n",
        "scaler = StandardScaler()\n",
        "X_scaled = scaler.fit_transform(X)\n",
        "\n",
        "# Split into training and validation sets\n",
        "X_train, X_val, y_train, y_val = train_test_split(X_scaled, y, test_size=0.2, random_state=42)\n",
        "\n",
        "# Configurations\n",
        "configs = [\n",
        "    (1000, (4,)),\n",
        "    (10000, (4,)),\n",
        "    (100000, (4,)),\n",
        "    (1000, (4, 4)),\n",
        "    (10000, (4, 4)),\n",
        "    (100000, (4, 4))\n",
        "]\n"
      ],
      "metadata": {
        "id": "FdHzMmNYyLrb"
      },
      "execution_count": 5,
      "outputs": []
    },
    {
      "cell_type": "code",
      "source": [
        "# Loop through configurations\n",
        "for max_iter, hidden_layers in configs:\n",
        "    model = MLPClassifier(hidden_layer_sizes=hidden_layers, max_iter=max_iter, random_state=42)\n",
        "\n",
        "    start_time = time.time()\n",
        "    model.fit(X_train, y_train)\n",
        "    end_time = time.time()\n",
        "\n",
        "    train_error = 1 - accuracy_score(y_train, model.predict(X_train))\n",
        "    val_error = 1 - accuracy_score(y_val, model.predict(X_val))\n",
        "    exec_time = end_time - start_time\n",
        "\n",
        "    print(\"{:<10} {:<25} {:<15.4f} {:<18.4f} {:<10.2f}\".format(\n",
        "        len(X_train), f\"{max_iter} iter, {hidden_layers}\", train_error, val_error, exec_time\n",
        "    ))"
      ],
      "metadata": {
        "colab": {
          "base_uri": "https://localhost:8080/"
        },
        "id": "vQ2Hao-HyNqG",
        "outputId": "d32a29c6-ce48-48e1-d73a-80a925266f7e"
      },
      "execution_count": 3,
      "outputs": [
        {
          "output_type": "stream",
          "name": "stdout",
          "text": [
            "8000000    1000 iter, (4,)           0.0004          0.0004             246.11    \n",
            "8000000    10000 iter, (4,)          0.0004          0.0004             237.40    \n",
            "8000000    100000 iter, (4,)         0.0004          0.0004             235.19    \n",
            "8000000    1000 iter, (4, 4)         0.0005          0.0005             293.67    \n",
            "8000000    10000 iter, (4, 4)        0.0005          0.0005             294.95    \n",
            "8000000    100000 iter, (4, 4)       0.0005          0.0005             293.98    \n"
          ]
        }
      ]
    }
  ]
}